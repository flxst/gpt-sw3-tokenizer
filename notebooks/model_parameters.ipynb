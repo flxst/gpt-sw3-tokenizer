{
 "cells": [
  {
   "cell_type": "code",
   "execution_count": null,
   "id": "da722f19",
   "metadata": {},
   "outputs": [],
   "source": [
    "import matplotlib.pyplot as plt\n",
    "from ipywidgets import interact, Checkbox, IntSlider\n",
    "import pandas as pd"
   ]
  },
  {
   "cell_type": "markdown",
   "id": "508b847f",
   "metadata": {},
   "source": [
    "# Helper Functions"
   ]
  },
  {
   "cell_type": "code",
   "execution_count": null,
   "id": "e62de875",
   "metadata": {},
   "outputs": [],
   "source": [
    "models = [\"Small\", \"Medium\", \"Large\", \"XL\", \"2.7B\", \"6.7B\", \"13B\", \"175B\"]\n",
    "Nmodels = len(models)\n",
    "\n",
    "d = {\n",
    "    \"Name\": models,\n",
    "    \"d_model\": [768, 1024, 1536, 2048, 2560, 4096, 5140, 12288],\n",
    "    \"vocab_size\": [None]*Nmodels,\n",
    "    \"params_embed [M]\": [None]*Nmodels,\n",
    "    \"params_total [M]\": [125, 350, 760, 1300, 2700, 6700, 13000, 175000],\n",
    "    \"params_embed/total\": [None]*Nmodels,\n",
    "\n",
    "}\n",
    "df_base = pd.DataFrame(d)\n",
    "# df_base"
   ]
  },
  {
   "cell_type": "code",
   "execution_count": null,
   "id": "ed099c3c",
   "metadata": {},
   "outputs": [],
   "source": [
    "def get_df(_vocab_size):\n",
    "    df = df_base.copy()\n",
    "    df[\"vocab_size\"] = [_vocab_size]*Nmodels\n",
    "    df[\"params_embed [M]\"] = df[\"vocab_size\"]*df[\"d_model\"] / 10**6\n",
    "    df[\"params_total [M]\"] += (df[\"vocab_size\"]-50000)*df[\"d_model\"] / 10**6\n",
    "    df[\"params_embed/total\"] = df['params_embed [M]'] / df['params_total [M]']\n",
    "    df[\"params_embed/total\"] = df[\"params_embed/total\"].apply(lambda x: f\"{100*x:.1f}%\")\n",
    "    return df"
   ]
  },
  {
   "cell_type": "code",
   "execution_count": null,
   "id": "94d8b6a6",
   "metadata": {},
   "outputs": [],
   "source": [
    "def plot_model_parameters(_dfs, _vocab_size):\n",
    "    fig, ax = plt.subplots(1, 2, figsize=(16, 5))\n",
    "    x = [i for i in range(Nmodels)]\n",
    "    \n",
    "    y_embed = {\n",
    "        v: _dfs[v][\"params_embed [M]\"]\n",
    "        for v in vs\n",
    "    }\n",
    "    y_total = {\n",
    "        v: _dfs[v][\"params_total [M]\"]\n",
    "        for v in vs\n",
    "    }\n",
    "    y_embed_rel = {\n",
    "        v: _dfs[v][\"params_embed [M]\"] / _dfs[v][\"params_total [M]\"]\n",
    "        for v in vs\n",
    "    }\n",
    "    y_total_rel = {\n",
    "        v: 1\n",
    "        for v in vs\n",
    "    }\n",
    "    for i, v in enumerate(vs):\n",
    "        ax[0].bar([elem - 0.25 + i*0.1 for elem in x], y_total[v], align='edge', width=0.1, color=\"blue\", label=\"total\" if i == 0 else None)\n",
    "        ax[0].bar([elem - 0.25 + i*0.1 for elem in x], y_embed[v], align='edge', width=0.1, color=[0.5, 0, 0], label=\"embedding\" if i == 0 else None)\n",
    "        if v == _vocab_size:\n",
    "            ax[0].bar([elem - 0.25 + i*0.1 for elem in x], y_embed[v], align='edge', width=0.1, color=\"red\", label=f\"embedding vocab_size = {_vocab_size}\")\n",
    "        ax[1].bar([elem - 0.25 + i*0.1 for elem in x], y_total_rel[v], align='edge', width=0.1, color=\"blue\")\n",
    "        ax[1].bar([elem - 0.25 + i*0.1 for elem in x], y_embed_rel[v], align='edge', width=0.1, color=[0.5, 0, 0])\n",
    "        if v == _vocab_size:\n",
    "            ax[1].bar([elem - 0.25 + i*0.1 for elem in x], y_embed_rel[v], align='edge', width=0.1, color=\"red\")\n",
    "            \n",
    "    #ax.set_yscale('log')\n",
    "    ax[0].legend()\n",
    "    ax[0].set_ylabel(\"# parameters\")\n",
    "    ax[1].set_ylabel(\"# parameters\")\n",
    "    ax[0].set_title(\"absolute\")\n",
    "    ax[1].set_title(\"relative\")\n",
    "    ax[0].set_xticks(x)\n",
    "    ax[1].set_xticks(x)\n",
    "    ax[0].set_xticklabels(models)\n",
    "    ax[1].set_xticklabels(models)\n",
    "    return fig, ax"
   ]
  },
  {
   "cell_type": "markdown",
   "id": "d4204209",
   "metadata": {},
   "source": [
    "# Overview"
   ]
  },
  {
   "cell_type": "markdown",
   "id": "6151ab89",
   "metadata": {},
   "source": [
    "![gpt3](./gpt3_parameters.png)"
   ]
  },
  {
   "cell_type": "code",
   "execution_count": null,
   "id": "045bd799",
   "metadata": {},
   "outputs": [],
   "source": [
    "vs = [50000*i for i in range(1, 6)]\n",
    "dfs = {v: get_df(v) for v in vs}\n",
    "\n",
    "@interact\n",
    "def show_model_parameters(vocab_size=IntSlider(min=50000, max=250000, step=50000, value=50000)):\n",
    "    plot_model_parameters(dfs, vocab_size)\n",
    "    display(dfs[vocab_size])"
   ]
  },
  {
   "cell_type": "code",
   "execution_count": null,
   "id": "cf3060f0",
   "metadata": {},
   "outputs": [],
   "source": []
  }
 ],
 "metadata": {
  "kernelspec": {
   "display_name": "venv-gpt-sw3-tokenizer",
   "language": "python",
   "name": "venv-gpt-sw3-tokenizer"
  },
  "language_info": {
   "codemirror_mode": {
    "name": "ipython",
    "version": 3
   },
   "file_extension": ".py",
   "mimetype": "text/x-python",
   "name": "python",
   "nbconvert_exporter": "python",
   "pygments_lexer": "ipython3",
   "version": "3.8.10"
  }
 },
 "nbformat": 4,
 "nbformat_minor": 5
}
