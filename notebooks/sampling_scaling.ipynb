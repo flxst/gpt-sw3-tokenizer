{
 "cells": [
  {
   "cell_type": "code",
   "execution_count": null,
   "id": "11872280",
   "metadata": {},
   "outputs": [],
   "source": [
    "import matplotlib.pyplot as plt"
   ]
  },
  {
   "cell_type": "code",
   "execution_count": null,
   "id": "f8d824a1",
   "metadata": {},
   "outputs": [],
   "source": [
    "# GB: s\n",
    "size_time = {\n",
    "    0.058: 0.3,\n",
    "    0.423: 1.4,\n",
    "    0.545: 1.7,\n",
    "    1.270: 4.1,\n",
    "    15.828: 36.6,\n",
    "    \n",
    "}\n",
    "\n",
    "size_time = {\n",
    "    0: 0,\n",
    "    16.673: 96.4,\n",
    "    \n",
    "}"
   ]
  },
  {
   "cell_type": "code",
   "execution_count": null,
   "id": "d67aca4b",
   "metadata": {},
   "outputs": [],
   "source": [
    "sizes = list(size_time.keys())\n",
    "times = list(size_time.values())\n",
    "derivative = (times[-1]-times[-2])/(sizes[-1]-sizes[-2])\n",
    "print(derivative)"
   ]
  },
  {
   "cell_type": "code",
   "execution_count": null,
   "id": "de140496",
   "metadata": {},
   "outputs": [],
   "source": [
    "fig, ax = plt.subplots(1, 1, figsize=(4, 3))\n",
    "ax.plot(sizes, times, marker=\"s\", linestyle=\"--\")\n",
    "ax.set_xlabel(\"size [GB]\")\n",
    "ax.set_ylabel(\"time [s]\")"
   ]
  },
  {
   "cell_type": "code",
   "execution_count": null,
   "id": "4c84a669",
   "metadata": {},
   "outputs": [],
   "source": [
    "def time_prediction(_size, _derivative, _size_0, _time_0):\n",
    "    _time_prediction = _time_0 + _derivative*(_size-_size_0)\n",
    "    print(f\"> time ({_size} GB) = {_time_prediction:.1f}s = {_time_prediction/60:.1f}min = {_time_prediction/3600:.1f}h\")"
   ]
  },
  {
   "cell_type": "code",
   "execution_count": null,
   "id": "8411fde0",
   "metadata": {},
   "outputs": [],
   "source": [
    "size_corpus = 1300\n",
    "\n",
    "time_prediction(size_corpus, derivative, sizes[-1], times[-1])"
   ]
  }
 ],
 "metadata": {
  "kernelspec": {
   "display_name": "venv-gpt-sw3-tokenizer",
   "language": "python",
   "name": "venv-gpt-sw3-tokenizer"
  },
  "language_info": {
   "codemirror_mode": {
    "name": "ipython",
    "version": 3
   },
   "file_extension": ".py",
   "mimetype": "text/x-python",
   "name": "python",
   "nbconvert_exporter": "python",
   "pygments_lexer": "ipython3",
   "version": "3.8.10"
  }
 },
 "nbformat": 4,
 "nbformat_minor": 5
}
