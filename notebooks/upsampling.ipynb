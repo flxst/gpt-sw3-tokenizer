{
 "cells": [
  {
   "cell_type": "code",
   "execution_count": null,
   "id": "f2cb4420",
   "metadata": {},
   "outputs": [],
   "source": [
    "import matplotlib.pyplot as plt\n",
    "from ipywidgets import interact, Checkbox, FloatSlider\n",
    "from plots import COLOR"
   ]
  },
  {
   "cell_type": "code",
   "execution_count": null,
   "id": "134fb69a",
   "metadata": {},
   "outputs": [],
   "source": [
    "LANG = [\"is\", \"da\", \"no\", \"en\", \"sv\"]\n",
    "P = [0.03, 0.07, 0.1, 0.3, 0.5]"
   ]
  },
  {
   "cell_type": "code",
   "execution_count": null,
   "id": "82397738",
   "metadata": {},
   "outputs": [],
   "source": [
    "def upsampling(_p, alpha, verbose=False):\n",
    "    denominator = sum([elem**alpha for elem in _p])\n",
    "    pure_q = [elem**alpha / denominator for elem in _p]\n",
    "    pure_f = [q_elem/p_elem for q_elem, p_elem in zip(pure_q, _p)]\n",
    "    factor = _p[-1]/pure_q[-1]\n",
    "    upscaled_q = [elem*factor for elem in pure_q]\n",
    "    upscaled_f = [q_elem/p_elem for q_elem, p_elem in zip(upscaled_q, _p)]\n",
    "    \n",
    "    if verbose:\n",
    "        print(f\"pure q: {pure_q}\")\n",
    "        print(f\"pure f: {pure_f}\")\n",
    "        print(f\"scale up by factor {factor}\")\n",
    "        print(f\"upscaled q: {upscaled_q}\")\n",
    "        print(f\"upscaled f: {upscaled_f}\")\n",
    "    \n",
    "    return pure_q, pure_f, factor, upscaled_q, upscaled_f"
   ]
  },
  {
   "cell_type": "code",
   "execution_count": null,
   "id": "906d79c6",
   "metadata": {},
   "outputs": [],
   "source": [
    "_, _, _, _, upscaled_f = upsampling(P, alpha=0.5)\n",
    "upscaled_f"
   ]
  },
  {
   "cell_type": "code",
   "execution_count": null,
   "id": "5423bfe9",
   "metadata": {},
   "outputs": [],
   "source": [
    "def plot_upsampling(_lang, _p, _q, _f, rescale):\n",
    "    fig, ax = plt.subplots(1, 3, figsize=(12, 4))\n",
    "    x = [_lang[i] for i in range(len(_p))]\n",
    "    c = color=[COLOR[i] for i in x]\n",
    "    ax[0].bar(x, _p, color=c)\n",
    "    ax[0].set_title(\"p\")\n",
    "    ax[0].set_ylim([0, 1])\n",
    "    \n",
    "    ax[1].bar(x, _q, color=c)\n",
    "    ax[1].set_title(\"q'\" if rescale else \"q\")\n",
    "    ax[1].set_ylim([0, 1])\n",
    "    \n",
    "    ax[2].bar(x, _f, color=c)\n",
    "    ax[2].set_title(\"f'\" if rescale else \"f\")\n",
    "    ax[2].set_ylim([0, 5])\n",
    "    ax[2].plot(x, [1]*len(x), \"--k\")"
   ]
  },
  {
   "cell_type": "code",
   "execution_count": null,
   "id": "33e9d3ea",
   "metadata": {},
   "outputs": [],
   "source": [
    "@interact\n",
    "def show_upsampling(alpha=FloatSlider(min=0, max=1, step=0.1, value=1), rescale=False):\n",
    "    pure_q, pure_f, _, upscaled_q, upscaled_f = upsampling(P, alpha)\n",
    "    q = upscaled_q if rescale else pure_q\n",
    "    f = upscaled_f if rescale else pure_f   \n",
    "    plot_upsampling(LANG, P, q, f, rescale)"
   ]
  },
  {
   "cell_type": "code",
   "execution_count": null,
   "id": "495bbf7e",
   "metadata": {},
   "outputs": [],
   "source": []
  }
 ],
 "metadata": {
  "kernelspec": {
   "display_name": "venv-gpt-sw3-tokenizer",
   "language": "python",
   "name": "venv-gpt-sw3-tokenizer"
  },
  "language_info": {
   "codemirror_mode": {
    "name": "ipython",
    "version": 3
   },
   "file_extension": ".py",
   "mimetype": "text/x-python",
   "name": "python",
   "nbconvert_exporter": "python",
   "pygments_lexer": "ipython3",
   "version": "3.8.10"
  }
 },
 "nbformat": 4,
 "nbformat_minor": 5
}
