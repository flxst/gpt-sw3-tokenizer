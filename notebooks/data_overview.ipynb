{
 "cells": [
  {
   "cell_type": "code",
   "execution_count": null,
   "id": "49ddccb8",
   "metadata": {},
   "outputs": [],
   "source": [
    "import pandas as pd\n",
    "import seaborn as sns\n",
    "import matplotlib.pyplot as plt\n",
    "import numpy as np"
   ]
  },
  {
   "cell_type": "code",
   "execution_count": null,
   "id": "e02777d3",
   "metadata": {},
   "outputs": [],
   "source": [
    "# sns.set(rc = {'figure.figsize':(8,8)})"
   ]
  },
  {
   "cell_type": "markdown",
   "id": "269f8723",
   "metadata": {},
   "source": [
    "# DFs"
   ]
  },
  {
   "cell_type": "code",
   "execution_count": null,
   "id": "32ca73ff",
   "metadata": {},
   "outputs": [],
   "source": [
    "paths = {\n",
    "    \"dijbytes\": \"dataset_sizes_bytes.csv\",\n",
    "    \"Wij\": \"../SAMPLING_WEIGHTS/SAMPLING_WEIGHTS_real.csv\",\n",
    "    \"dijtokens\": \"dataset_sizes_tokens.csv\",\n",
    "}"
   ]
  },
  {
   "cell_type": "code",
   "execution_count": null,
   "id": "c28efd65",
   "metadata": {},
   "outputs": [],
   "source": [
    "dfs = {k: pd.read_csv(paths[k], index_col=0) for k in paths.keys()}\n",
    "\n",
    "dfs[\"dijbytes*Wij\"] = pd.DataFrame(dfs[\"dijbytes\"].values*dfs[\"Wij\"].values, \n",
    "                                   columns=dfs[\"dijbytes\"].columns, \n",
    "                                   index=dfs[\"dijbytes\"].index)\n",
    "dfs[\"dijtokens*Wij\"] = pd.DataFrame(dfs[\"dijtokens\"].values*dfs[\"Wij\"].values, \n",
    "                                   columns=dfs[\"dijtokens\"].columns, \n",
    "                                   index=dfs[\"dijtokens\"].index)\n",
    "\n",
    "dfs[\"fijbytes\"] = dfs[\"dijbytes\"].div(dfs[\"dijbytes\"].to_numpy().sum()).multiply(100)\n",
    "dfs[\"Fijbytes\"] = dfs[\"dijbytes*Wij\"].div(dfs[\"dijbytes*Wij\"].to_numpy().sum()).multiply(100)\n",
    "dfs[\"fijtokens\"] = dfs[\"dijtokens\"].div(dfs[\"dijtokens\"].to_numpy().sum()).multiply(100)\n",
    "dfs[\"Fijtokens\"] = dfs[\"dijtokens*Wij\"].div(dfs[\"dijtokens*Wij\"].to_numpy().sum()).multiply(100)\n",
    "    \n",
    "for key in dfs.keys():\n",
    "    if key == \"Wij\":\n",
    "        dfs[key][\"total\"] = dfs[key].apply(lambda x: 0, axis=1)\n",
    "        dfs[key].loc[\"total\"] = dfs[key].apply(lambda x: 0, axis=0)\n",
    "    else:\n",
    "        dfs[key][\"total\"] = dfs[key].apply(lambda x: sum(x), axis=1)\n",
    "        dfs[key].loc[\"total\"] = dfs[key].apply(lambda x: sum(x), axis=0)"
   ]
  },
  {
   "cell_type": "code",
   "execution_count": null,
   "id": "4dc09ee9",
   "metadata": {},
   "outputs": [],
   "source": [
    "def drop_total(_df):\n",
    "    _df.drop(\"total\", axis=0, inplace=True)\n",
    "    _df.drop(\"total\", axis=1, inplace=True)\n",
    "    \n",
    "def add_total(_df):\n",
    "    _df[\"total\"] = _df.apply(lambda x: sum(x), axis=1)\n",
    "    _df.loc[\"total\"] = _df.apply(lambda x: sum(x), axis=0)\n",
    "    \n",
    "def totex(_df, _name, header, tail=\"\\end{tabular}}\"):\n",
    "    t = \"\\\\scalebox{\\\\tabscale}{\"\n",
    "    t += header + \" \\\\\\\\\\n\"\n",
    "    t += _df.to_csv().replace(\",\", \" & \").replace(\"commoncrawl\", \"cc\").replace(\"conversational\", \"conv\").replace(\"\\n\", \" \\\\\\\\ \\n\").replace(\"_\", \"\\_\").replace(\"\\\\\\\\\", \"\\\\\\\\ \\\\hline\", 1)\n",
    "    if t.endswith(\" \\\\\\\\ \\n\"):\n",
    "        t = t[:-len(\" \\\\\\\\ \\n\")]\n",
    "        t += \" \\n\"\n",
    "    t += tail\n",
    "    \n",
    "    path = f\"tables/{_name}.tex\"\n",
    "    with open(path, \"w\") as f:\n",
    "        f.write(t)"
   ]
  },
  {
   "cell_type": "markdown",
   "id": "5885c0f7",
   "metadata": {},
   "source": [
    "### Step 0: Plain dataset sizes"
   ]
  },
  {
   "cell_type": "code",
   "execution_count": null,
   "id": "ca60ed19",
   "metadata": {},
   "outputs": [],
   "source": [
    "totex(dfs[\"dijbytes\"].applymap(lambda x: f\"{x:.1f}\"), \"dijbytes\", header=\"\\\\begin{tabular}{c||c|c|c|c|c|c||c}\")\n",
    "dfs[\"dijbytes\"]"
   ]
  },
  {
   "cell_type": "code",
   "execution_count": null,
   "id": "72a4ccbb",
   "metadata": {},
   "outputs": [],
   "source": [
    "totex(dfs[\"fijbytes\"].applymap(lambda x: f\"{x:.2f}\"), \"fijbytes\", header=\"\\\\begin{tabular}{c||c|c|c|c|c|c||c}\")\n",
    "dfs[\"fijbytes\"]"
   ]
  },
  {
   "cell_type": "markdown",
   "id": "e361a37b",
   "metadata": {},
   "source": [
    "### Step 1: Tokenizer Training"
   ]
  },
  {
   "cell_type": "code",
   "execution_count": null,
   "id": "c87f3160",
   "metadata": {},
   "outputs": [],
   "source": [
    "dfs[\"Wij\"]"
   ]
  },
  {
   "cell_type": "code",
   "execution_count": null,
   "id": "13e2645f",
   "metadata": {},
   "outputs": [],
   "source": [
    "totex(dfs[\"Wij\"], \"Wij\", header=\"\\\\begin{tabular}{c||c|c|c|c|c|c||c}\")"
   ]
  },
  {
   "cell_type": "code",
   "execution_count": null,
   "id": "958e187d",
   "metadata": {},
   "outputs": [],
   "source": [
    "dfs[\"dijbytes*Wij\"] "
   ]
  },
  {
   "cell_type": "code",
   "execution_count": null,
   "id": "f33a56b0",
   "metadata": {},
   "outputs": [],
   "source": [
    "totex(dfs[\"Fijbytes\"].applymap(lambda x: f\"{x:.2f}\"), \"FFijbytes\", header=\"\\\\begin{tabular}{c||c|c|c|c|c|c||c}\")\n",
    "dfs[\"Fijbytes\"]"
   ]
  },
  {
   "cell_type": "markdown",
   "id": "0119e9e8",
   "metadata": {},
   "source": [
    "### Step 2: Tokenizer Application"
   ]
  },
  {
   "cell_type": "code",
   "execution_count": null,
   "id": "e6eab692",
   "metadata": {},
   "outputs": [],
   "source": [
    "totex(dfs[\"dijtokens\"], \"dijtokens\", header=\"\\\\begin{tabular}{c||c|c|c|c|c|c||c}\")\n",
    "dfs[\"dijtokens\"]"
   ]
  },
  {
   "cell_type": "code",
   "execution_count": null,
   "id": "e1b9393e",
   "metadata": {},
   "outputs": [],
   "source": [
    "totex(dfs[\"fijtokens\"].applymap(lambda x: f\"{x:.2f}\"), \"fijtokens\", header=\"\\\\begin{tabular}{c||c|c|c|c|c|c||c}\")\n",
    "dfs[\"fijtokens\"]"
   ]
  },
  {
   "cell_type": "code",
   "execution_count": null,
   "id": "ac630def",
   "metadata": {},
   "outputs": [],
   "source": [
    "T = dfs[\"dijtokens\"].loc[\"total\"][\"total\"]\n",
    "T"
   ]
  },
  {
   "cell_type": "code",
   "execution_count": null,
   "id": "66cc7045",
   "metadata": {},
   "outputs": [],
   "source": [
    "dfs[\"rij\"] = dfs[\"dijtokens\"]/dfs[\"dijbytes\"]/10**9\n",
    "dfs[\"rij\"]"
   ]
  },
  {
   "cell_type": "code",
   "execution_count": null,
   "id": "d27b3894",
   "metadata": {},
   "outputs": [],
   "source": [
    "m1, m2 = min([elem for val in dfs[\"rij\"].values for elem in val]), max([elem for val in dfs[\"rij\"].values for elem in val])\n",
    "1/m1, 1/m2"
   ]
  },
  {
   "cell_type": "markdown",
   "id": "19e22dbc",
   "metadata": {},
   "source": [
    "### Step 3: Model Training"
   ]
  },
  {
   "cell_type": "code",
   "execution_count": null,
   "id": "bf8eccf2",
   "metadata": {},
   "outputs": [],
   "source": [
    "totex(dfs[\"Fijtokens\"].applymap(lambda x: f\"{x:.2f}\"), \"FFijtokens\", header=\"\\\\begin{tabular}{c||c|c|c|c|c|c||c}\")\n",
    "dfs[\"Fijtokens\"]"
   ]
  },
  {
   "cell_type": "markdown",
   "id": "a912ad5c",
   "metadata": {},
   "source": [
    "### Step 3b: Model Training"
   ]
  },
  {
   "cell_type": "code",
   "execution_count": null,
   "id": "6bb42925",
   "metadata": {},
   "outputs": [],
   "source": [
    "dfs[\"Eij\"] = T*dfs[\"Fijtokens\"]/100/dfs[\"dijtokens\"]\n",
    "dfs[\"Eij\"] = dfs[\"Eij\"].fillna(0)\n",
    "totex(dfs[\"Eij\"].applymap(lambda x: f\"{x:.2f}\"), \"Eij\", header=\"\\\\begin{tabular}{c||c|c|c|c|c|c||c}\")\n",
    "dfs[\"Eij\"]"
   ]
  },
  {
   "cell_type": "code",
   "execution_count": null,
   "id": "82c68dd6",
   "metadata": {},
   "outputs": [],
   "source": [
    "dfs[\"Eij_rounded\"] = dfs[\"Eij\"].applymap(lambda x: np.ceil(x))\n",
    "drop_total(dfs[\"Eij_rounded\"])\n",
    "dfs[\"Eij_rounded\"] = dfs[\"Eij_rounded\"].fillna(0)\n",
    "totex(dfs[\"Eij_rounded\"].applymap(lambda x: f\"{x:.0f}\"), \"Eij_rounded\", header=\"\\\\begin{tabular}{c||c|c|c|c|c|c||c}\")\n",
    "dfs[\"Eij_rounded\"]"
   ]
  },
  {
   "cell_type": "code",
   "execution_count": null,
   "id": "25a97b5a",
   "metadata": {},
   "outputs": [],
   "source": [
    "_dfs_dijtokens = dfs[\"dijtokens\"].copy()\n",
    "drop_total(_dfs_dijtokens)\n",
    "dfs[\"Fijtokens_rounded\"] = pd.DataFrame(dfs[\"Eij_rounded\"].values*_dfs_dijtokens.values/T*100, \n",
    "                                   columns=dfs[\"Eij_rounded\"].columns, \n",
    "                                   index=dfs[\"Eij_rounded\"].index)\n",
    "dfs[\"Fijtokens_rounded\"] = dfs[\"Fijtokens_rounded\"].fillna(0)\n",
    "add_total(dfs[\"Fijtokens_rounded\"])\n",
    "\n",
    "totex(dfs[\"Fijtokens_rounded\"].applymap(lambda x: f\"{x:.2f}\"), \"Fijtokens_rounded\", header=\"\\\\begin{tabular}{c||c|c|c|c|c|c||c}\")\n",
    "dfs[\"Fijtokens_rounded\"]"
   ]
  },
  {
   "cell_type": "code",
   "execution_count": null,
   "id": "6847cb15",
   "metadata": {},
   "outputs": [],
   "source": [
    "factor = dfs[\"Fijtokens_rounded\"].loc[\"total\", \"total\"]/100\n",
    "factor\n",
    "\n",
    "dfs[\"Fijtokens_rounded_normalized\"] = dfs[\"Fijtokens_rounded\"].applymap(lambda x: x/factor)\n",
    "\n",
    "totex(dfs[\"Fijtokens_rounded_normalized\"].applymap(lambda x: f\"{x:.2f}\"), \"Fijtokens_rounded_normalized\", header=\"\\\\begin{tabular}{c||c|c|c|c|c|c||c}\")\n",
    "dfs[\"Fijtokens_rounded_normalized\"]"
   ]
  },
  {
   "cell_type": "code",
   "execution_count": null,
   "id": "d720fe88",
   "metadata": {},
   "outputs": [],
   "source": [
    "dfs[\"Fijtokens\"]"
   ]
  },
  {
   "cell_type": "code",
   "execution_count": null,
   "id": "a51de47e",
   "metadata": {},
   "outputs": [],
   "source": [
    "dfs[\"Fijtokens_rounded_normalized_ratio\"] = dfs[\"Fijtokens_rounded_normalized\"]/dfs[\"Fijtokens\"]\n",
    "dfs[\"Fijtokens_rounded_normalized_ratio\"] = dfs[\"Fijtokens_rounded_normalized_ratio\"].fillna(0)\n",
    "totex(dfs[\"Fijtokens_rounded_normalized_ratio\"].applymap(lambda x: f\"{x:.2f}\"), \"Fijtokens_rounded_normalized_ratio\", header=\"\\\\begin{tabular}{c||c|c|c|c|c|c||c}\")\n",
    "dfs[\"Fijtokens_rounded_normalized_ratio\"]"
   ]
  },
  {
   "cell_type": "markdown",
   "id": "4fdc1979",
   "metadata": {},
   "source": [
    "### Minimum Hypothesis"
   ]
  },
  {
   "cell_type": "raw",
   "id": "2b7bb92d",
   "metadata": {},
   "source": [
    "a = T*dfs[\"Fijtokens\"]/100.\n",
    "a"
   ]
  },
  {
   "cell_type": "raw",
   "id": "a48db512",
   "metadata": {},
   "source": [
    "b = dfs[\"dijtokens\"]/100*100\n",
    "b"
   ]
  },
  {
   "cell_type": "raw",
   "id": "795c04c0",
   "metadata": {},
   "source": [
    "c = pd.concat([a,b]).min(level=0)\n",
    "c.drop(\"total\", axis=0, inplace=True)\n",
    "c.drop(\"total\", axis=1, inplace=True)\n",
    "c[\"total\"] = c.apply(lambda x: sum(x), axis=1)\n",
    "c.loc[\"total\"] = c.apply(lambda x: sum(x), axis=0)\n",
    "c"
   ]
  },
  {
   "cell_type": "markdown",
   "id": "fda0d05b",
   "metadata": {},
   "source": [
    "# HEATMAPS"
   ]
  },
  {
   "cell_type": "code",
   "execution_count": null,
   "id": "8e12bca2",
   "metadata": {},
   "outputs": [],
   "source": [
    "sns.heatmap(dfs[\"dijbytes\"], annot=True)\n",
    "ax.set_title('dataset sizes [bytes]')\n",
    "plt.show()"
   ]
  },
  {
   "cell_type": "code",
   "execution_count": null,
   "id": "9ad0978e",
   "metadata": {},
   "outputs": [],
   "source": [
    "ax = plt.axes()\n",
    "sns.heatmap(dfs[\"Wij\"], annot=True)\n",
    "ax.set_title('weights')\n",
    "plt.show()"
   ]
  },
  {
   "cell_type": "code",
   "execution_count": null,
   "id": "fc411fed",
   "metadata": {},
   "outputs": [],
   "source": [
    "ax = plt.axes()\n",
    "sns.heatmap(dfs[\"fijbytes\"], annot=True)\n",
    "ax.set_title('dataset_size [%]')\n",
    "plt.show()"
   ]
  },
  {
   "cell_type": "code",
   "execution_count": null,
   "id": "de50a4c7",
   "metadata": {},
   "outputs": [],
   "source": [
    "ax = plt.axes()\n",
    "sns.heatmap(dfs[\"Fijbytes\"], annot=True)\n",
    "ax.set_title('dataset_size weighted [%]')\n",
    "plt.show()"
   ]
  }
 ],
 "metadata": {
  "kernelspec": {
   "display_name": "venv-gpt-sw3-tokenizer",
   "language": "python",
   "name": "venv-gpt-sw3-tokenizer"
  },
  "language_info": {
   "codemirror_mode": {
    "name": "ipython",
    "version": 3
   },
   "file_extension": ".py",
   "mimetype": "text/x-python",
   "name": "python",
   "nbconvert_exporter": "python",
   "pygments_lexer": "ipython3",
   "version": "3.8.10"
  }
 },
 "nbformat": 4,
 "nbformat_minor": 5
}
