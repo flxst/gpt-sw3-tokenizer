{
 "cells": [
  {
   "cell_type": "code",
   "execution_count": null,
   "id": "3391776d",
   "metadata": {},
   "outputs": [],
   "source": [
    "import matplotlib.pyplot as plt\n",
    "import numpy as np\n",
    "import random\n",
    "from os.path import isfile\n",
    "from typing import List\n",
    "from collections import Counter\n",
    "import ipywidgets as widgets\n",
    "from ipywidgets import interact\n",
    "\n",
    "from src.sampling import reservoir_sampling, reservoir_sampling_original"
   ]
  },
  {
   "cell_type": "code",
   "execution_count": null,
   "id": "94230fbf",
   "metadata": {},
   "outputs": [],
   "source": [
    "path_original_data = \"../src/tests/data/test_data_original/test.jsonl\"\n",
    "assert isfile(path_original_data)"
   ]
  },
  {
   "cell_type": "markdown",
   "id": "1c35ba9a",
   "metadata": {},
   "source": [
    "# Functions"
   ]
  },
  {
   "cell_type": "code",
   "execution_count": null,
   "id": "bae3cb81",
   "metadata": {},
   "outputs": [],
   "source": [
    "def lines2int(_lines: List[str]) -> List[int]:\n",
    "    \"\"\"convert jsonl lines to integers\n",
    "       e.g. [\"28\\n\", \"11\\n\"] -> [28, 11]\n",
    "    \"\"\"\n",
    "    return [int(line.strip(\"\\n\")) for line in _lines]\n",
    "\n",
    "def plot_count(_counter: Counter, _exclude: List[int], _sample_size: int, _sample_number: int):\n",
    "    counter_list = [_counter[i] for i in range(100)]\n",
    "    item_number = sum(counter_list)\n",
    "    \n",
    "    fig, ax = plt.subplots(1, 1, figsize=(8,6))\n",
    "    ax.plot([0, 100], [item_number/(100-len(_exclude)), item_number/(100-len(_exclude))], color=\"k\", linestyle=\":\", label=\"expectation value\")\n",
    "    \n",
    "    ax.plot(counter_list, color=\"k\", label=\"empirical value\")\n",
    "    ax.set_title(f\"sampled data\")\n",
    "    ax.set_ylim([0, None])\n",
    "    ax.legend()\n",
    "    \n",
    "    counter_list_nonzero = [elem for elem in counter_list if elem > 0]\n",
    "    print(f\"> sample size = {_sample_size}, #samples = {_sample_number} => #items={item_number}\")\n",
    "    print(\"\")\n",
    "    print(\"Output:\")\n",
    "    print(f\"> min = {min(counter_list_nonzero)}, max = {max(counter_list_nonzero)}, mean = {np.mean(counter_list_nonzero):.1f}\")\n",
    "    print(f\"> non-zero counts = {len(counter_list_nonzero)}, zero counts = {100-len(counter_list_nonzero)}\")"
   ]
  },
  {
   "cell_type": "markdown",
   "id": "11ce10cc",
   "metadata": {},
   "source": [
    "# Reservoir Sampling"
   ]
  },
  {
   "cell_type": "code",
   "execution_count": null,
   "id": "3a7ac6bc",
   "metadata": {},
   "outputs": [],
   "source": [
    "@interact\n",
    "def function_reservoir_sampling(sample_size=[20, 40], sample_number=[10000, 50000], evaluation=[False, True]):\n",
    "    data_train = []\n",
    "    exclude = sorted(random.sample(range(0, 100), k=sample_size)) if evaluation else []\n",
    "    print(\"> Input:\")\n",
    "    print(f\"> {len(exclude)} excluded indices: {exclude}\")\n",
    "    for r in range(sample_number):\n",
    "        with open(path_original_data) as infile:\n",
    "            sample, sample_indices = reservoir_sampling(infile, sample_size, exclude=exclude)\n",
    "            data_train.extend(lines2int(sample))\n",
    "\n",
    "    counter = Counter(data_train)\n",
    "\n",
    "    for index in exclude:\n",
    "        assert counter[index] == 0\n",
    "\n",
    "    plot_count(counter, exclude, sample_size, sample_number)"
   ]
  },
  {
   "cell_type": "markdown",
   "id": "e8e24af3",
   "metadata": {},
   "source": [
    "# Reservoir Sampling Original"
   ]
  },
  {
   "cell_type": "code",
   "execution_count": null,
   "id": "2776094d",
   "metadata": {},
   "outputs": [],
   "source": [
    "@interact\n",
    "def function_reservoir_sampling_original(sample_size=[20, 40], sample_number=[10000, 50000]):\n",
    "    data_train = []\n",
    "    print(\"> Input:\")\n",
    "    for r in range(sample_number):\n",
    "        with open(path_original_data) as infile:\n",
    "            sample = reservoir_sampling_original(infile, sample_size)\n",
    "            data_train.extend(lines2int(sample))\n",
    "\n",
    "    counter = Counter(data_train)\n",
    "\n",
    "    plot_count(counter, [], sample_size, sample_number)"
   ]
  }
 ],
 "metadata": {
  "kernelspec": {
   "display_name": "venv-gpt-sw3-tokenizer",
   "language": "python",
   "name": "venv-gpt-sw3-tokenizer"
  },
  "language_info": {
   "codemirror_mode": {
    "name": "ipython",
    "version": 3
   },
   "file_extension": ".py",
   "mimetype": "text/x-python",
   "name": "python",
   "nbconvert_exporter": "python",
   "pygments_lexer": "ipython3",
   "version": "3.8.10"
  }
 },
 "nbformat": 4,
 "nbformat_minor": 5
}
